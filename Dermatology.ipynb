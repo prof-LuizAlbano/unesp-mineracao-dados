{
 "cells": [
  {
   "cell_type": "code",
   "execution_count": 1,
   "metadata": {},
   "outputs": [
    {
     "name": "stdout",
     "output_type": "stream",
     "text": [
      "{'uci_id': 33, 'name': 'Dermatology', 'repository_url': 'https://archive.ics.uci.edu/dataset/33/dermatology', 'data_url': 'https://archive.ics.uci.edu/static/public/33/data.csv', 'abstract': 'Aim for this dataset is to determine the type of Eryhemato-Squamous Disease.', 'area': 'Health and Medicine', 'tasks': ['Classification'], 'characteristics': ['Multivariate'], 'num_instances': 366, 'num_features': 34, 'feature_types': ['Categorical', 'Integer'], 'demographics': ['Age'], 'target_col': ['class'], 'index_col': None, 'has_missing_values': 'yes', 'missing_values_symbol': 'NaN', 'year_of_dataset_creation': 1998, 'last_updated': 'Wed Feb 14 2024', 'dataset_doi': '10.24432/C5FK5P', 'creators': ['Nilsel Ilter', 'H. Guvenir'], 'intro_paper': {'ID': 387, 'type': 'NATIVE', 'title': 'Learning differential diagnosis of erythemato-squamous diseases using voting feature intervals', 'authors': 'H. Altay Güvenir, G. Demiröz, N. Ilter', 'venue': 'Artif. Intell. Medicine', 'year': 1998, 'journal': None, 'DOI': None, 'URL': 'https://www.semanticscholar.org/paper/eb371061d34d08b01856f8fe8e66d2a689f3419c', 'sha': None, 'corpus': None, 'arxiv': None, 'mag': None, 'acl': None, 'pmid': '9698151', 'pmcid': None}, 'additional_info': {'summary': 'This database contains 34 attributes, 33 of which are linear valued and one of them is nominal. \\r\\n\\r\\nThe differential diagnosis of erythemato-squamous diseases is a real problem in dermatology. They all share the clinical features of erythema and scaling, with very little differences. The diseases in this group are psoriasis, seboreic dermatitis, lichen planus, pityriasis rosea, cronic dermatitis, and pityriasis rubra pilaris. Usually a biopsy is necessary for the diagnosis but unfortunately these diseases share many histopathological features as well. Another difficulty for the differential diagnosis is that a disease may show the features of another disease at the beginning stage and may have the characteristic features at the following stages. Patients were first evaluated clinically with 12 features. Afterwards, skin samples were taken for the evaluation of 22 histopathological features. The values of the histopathological features are determined by an analysis of the samples under a microscope. \\r\\n\\r\\nIn the dataset constructed for this domain, the family history feature has the value 1 if any of these diseases has been observed in the family, and 0 otherwise. The age feature simply represents the age of the patient. Every other feature (clinical and histopathological) was given a degree in the range of 0 to 3. Here, 0 indicates that the feature was not present, 3 indicates the largest amount possible, and 1, 2 indicate the relative intermediate values.\\r\\n\\r\\nThe names and id numbers of the patients were recently removed from the database.', 'purpose': None, 'funded_by': None, 'instances_represent': None, 'recommended_data_splits': None, 'sensitive_data': None, 'preprocessing_description': None, 'variable_info': '      Clinical Attributes: (take values 0, 1, 2, 3, unless otherwise indicated)\\r\\n      1: erythema\\r\\n      2: scaling\\r\\n      3: definite borders\\r\\n      4: itching\\r\\n      5: koebner phenomenon\\r\\n      6: polygonal papules\\r\\n      7: follicular papules\\r\\n      8: oral mucosal involvement\\r\\n      9: knee and elbow involvement\\r\\n     10: scalp involvement\\r\\n     11: family history, (0 or 1)\\r\\n     34: Age (linear)\\r\\n\\r\\n     Histopathological Attributes: (take values 0, 1, 2, 3)\\r\\n     12: melanin incontinence\\r\\n     13: eosinophils in the infiltrate\\r\\n     14: PNL infiltrate\\r\\n     15: fibrosis of the papillary dermis\\r\\n     16: exocytosis\\r\\n     17: acanthosis\\r\\n     18: hyperkeratosis\\r\\n     19: parakeratosis\\r\\n     20: clubbing of the rete ridges\\r\\n     21: elongation of the rete ridges\\r\\n     22: thinning of the suprapapillary epidermis\\r\\n     23: spongiform pustule\\r\\n     24: munro microabcess\\r\\n     25: focal hypergranulosis\\r\\n     26: disappearance of the granular layer\\r\\n     27: vacuolisation and damage of basal layer\\r\\n     28: spongiosis\\r\\n     29: saw-tooth appearance of retes\\r\\n     30: follicular horn plug\\r\\n     31: perifollicular parakeratosis\\r\\n     32: inflammatory monoluclear inflitrate\\r\\n     33: band-like infiltrate', 'citation': None}}\n",
      "                                           name     role     type demographic  \\\n",
      "0                                      erythema  Feature  Integer        None   \n",
      "1                                       scaling  Feature  Integer        None   \n",
      "2                              definite-borders  Feature  Integer        None   \n",
      "3                                       itching  Feature  Integer        None   \n",
      "4                            koebner phenomenon  Feature  Integer        None   \n",
      "5                             polygonal papules  Feature  Integer        None   \n",
      "6                            follicular papules  Feature  Integer        None   \n",
      "7                      oral-mucosal involvement  Feature  Integer        None   \n",
      "8                        knee elbow involvement  Feature  Integer        None   \n",
      "9                             scalp involvement  Feature  Integer        None   \n",
      "10                               family history  Feature   Binary        None   \n",
      "11                         melanin incontinence  Feature  Integer        None   \n",
      "12                eosinophils in the infiltrate  Feature  Integer        None   \n",
      "13                               pnl infiltrate  Feature  Integer        None   \n",
      "14             fibrosis of the papillary dermis  Feature  Integer        None   \n",
      "15                                   exocytosis  Feature  Integer        None   \n",
      "16                                   acanthosis  Feature  Integer        None   \n",
      "17                               hyperkeratosis  Feature  Integer        None   \n",
      "18                                parakeratosis  Feature  Integer        None   \n",
      "19                  clubbing of the rete ridges  Feature  Integer        None   \n",
      "20                elongation of the rete ridges  Feature  Integer        None   \n",
      "21     thinning of the suprapapillary epidermis  Feature  Integer        None   \n",
      "22                           spongiform pustule  Feature  Integer        None   \n",
      "23                            munro microabcess  Feature  Integer        None   \n",
      "24                        focal hypergranulosis  Feature  Integer        None   \n",
      "25          disappearance of the granular layer  Feature  Integer        None   \n",
      "26  vacuolisation and damage of the basal layer  Feature  Integer        None   \n",
      "27                                   spongiosis  Feature  Integer        None   \n",
      "28                saw-tooth appearance of retes  Feature  Integer        None   \n",
      "29                         follicular horn plug  Feature  Integer        None   \n",
      "30                 perifollicular parakeratosis  Feature  Integer        None   \n",
      "31          inflammatory monoluclear infiltrate  Feature  Integer        None   \n",
      "32                         band-like infiltrate  Feature  Integer        None   \n",
      "33                                          age  Feature  Integer         Age   \n",
      "34                                        class   Target  Integer        None   \n",
      "\n",
      "   description units missing_values  \n",
      "0         None  None             no  \n",
      "1         None  None             no  \n",
      "2         None  None             no  \n",
      "3         None  None             no  \n",
      "4         None  None             no  \n",
      "5         None  None             no  \n",
      "6         None  None             no  \n",
      "7         None  None             no  \n",
      "8         None  None             no  \n",
      "9         None  None             no  \n",
      "10        None  None             no  \n",
      "11        None  None             no  \n",
      "12        None  None             no  \n",
      "13        None  None             no  \n",
      "14        None  None             no  \n",
      "15        None  None             no  \n",
      "16        None  None             no  \n",
      "17        None  None             no  \n",
      "18        None  None             no  \n",
      "19        None  None             no  \n",
      "20        None  None             no  \n",
      "21        None  None             no  \n",
      "22        None  None             no  \n",
      "23        None  None             no  \n",
      "24        None  None             no  \n",
      "25        None  None             no  \n",
      "26        None  None             no  \n",
      "27        None  None             no  \n",
      "28        None  None             no  \n",
      "29        None  None             no  \n",
      "30        None  None             no  \n",
      "31        None  None             no  \n",
      "32        None  None             no  \n",
      "33        None  None            yes  \n",
      "34        None  None             no  \n"
     ]
    }
   ],
   "source": [
    "#!pip install ucimlrepo\n",
    "from ucimlrepo import fetch_ucirepo \n",
    "  \n",
    "# fetch dataset \n",
    "dermatology = fetch_ucirepo(id=33) \n",
    "  \n",
    "# data (as pandas dataframes) \n",
    "X = dermatology.data.features \n",
    "y = dermatology.data.targets \n",
    " # metadata \n",
    "print(dermatology.metadata) \n",
    "  \n",
    "# variable information \n",
    "print(dermatology.variables) \n"
   ]
  },
  {
   "cell_type": "code",
   "execution_count": 2,
   "metadata": {},
   "outputs": [
    {
     "name": "stdout",
     "output_type": "stream",
     "text": [
      "     class\n",
      "0        2\n",
      "1        1\n",
      "2        3\n",
      "3        1\n",
      "4        3\n",
      "..     ...\n",
      "361      4\n",
      "362      4\n",
      "363      3\n",
      "364      3\n",
      "365      1\n",
      "\n",
      "[366 rows x 1 columns]\n"
     ]
    }
   ],
   "source": [
    "# Exibir as primeiras linhas do DataFrame\n",
    "print(y)\n"
   ]
  },
  {
   "cell_type": "code",
   "execution_count": 15,
   "metadata": {},
   "outputs": [],
   "source": [
    "import numpy as np\n",
    "import pandas as pd\n",
    "from sklearn.model_selection import train_test_split\n",
    "from sklearn.ensemble import RandomForestClassifier\n",
    "from sklearn.tree import DecisionTreeClassifier\n",
    "from sklearn.metrics import classification_report, accuracy_score\n",
    "#separação da base em treianmento e teste  sendo 80% para treinamento e 20% para teste\n",
    "X_train, X_test, y_train, y_test = train_test_split(X, y, test_size=0.2, random_state=42)\n"
   ]
  },
  {
   "cell_type": "code",
   "execution_count": 16,
   "metadata": {},
   "outputs": [
    {
     "name": "stdout",
     "output_type": "stream",
     "text": [
      "Acurácia:  0.9864864864864865\n",
      "\n",
      "Relatório de Classificação:\n",
      "               precision    recall  f1-score   support\n",
      "\n",
      "           1       0.97      1.00      0.98        31\n",
      "           2       1.00      1.00      1.00         9\n",
      "           3       1.00      1.00      1.00        13\n",
      "           4       1.00      1.00      1.00         8\n",
      "           5       1.00      0.90      0.95        10\n",
      "           6       1.00      1.00      1.00         3\n",
      "\n",
      "    accuracy                           0.99        74\n",
      "   macro avg       0.99      0.98      0.99        74\n",
      "weighted avg       0.99      0.99      0.99        74\n",
      "\n"
     ]
    }
   ],
   "source": [
    "#avaliação do modelo \n",
    "#treinamento e predição \n",
    "clf = DecisionTreeClassifier(random_state=42)\n",
    "clf.fit(X_train, y_train)\n",
    "y_pred = clf.predict(X_test)\n",
    "print(\"Acurácia: \", accuracy_score(y_test, y_pred))\n",
    "print(\"\\nRelatório de Classificação:\\n\", classification_report(y_test, y_pred))\n"
   ]
  },
  {
   "cell_type": "code",
   "execution_count": 17,
   "metadata": {},
   "outputs": [
    {
     "data": {
      "image/png": "[encoded data removed]",
      "text/plain": [
       "<Figure size 1000x700 with 2 Axes>"
      ]
     },
     "metadata": {},
     "output_type": "display_data"
    }
   ],
   "source": [
    "#matrix de confusão de cada classe com plot\n",
    "import matplotlib.pyplot as plt\n",
    "import seaborn as sns\n",
    "from sklearn.metrics import confusion_matrix, pair_confusion_matrix\n",
    "cm = confusion_matrix(y_test, y_pred)\n",
    "#plot matrixz de confusão\n",
    "plt.figure(figsize=(10, 7))\n",
    "sns.heatmap(cm, annot=True)\n",
    "plt.xlabel('Predição')\n",
    "plt.ylabel('Real')\n",
    "plt.show()\n"
   ]
  },
  {
   "cell_type": "code",
   "execution_count": 18,
   "metadata": {},
   "outputs": [
    {
     "name": "stdout",
     "output_type": "stream",
     "text": [
      "Acurácia:  1.0\n",
      "\n",
      "Relatório de Classificação:\n",
      "               precision    recall  f1-score   support\n",
      "\n",
      "           1       1.00      1.00      1.00        31\n",
      "           2       1.00      1.00      1.00         9\n",
      "           3       1.00      1.00      1.00        13\n",
      "           4       1.00      1.00      1.00         8\n",
      "           5       1.00      1.00      1.00        10\n",
      "           6       1.00      1.00      1.00         3\n",
      "\n",
      "    accuracy                           1.00        74\n",
      "   macro avg       1.00      1.00      1.00        74\n",
      "weighted avg       1.00      1.00      1.00        74\n",
      "\n"
     ]
    },
    {
     "name": "stderr",
     "output_type": "stream",
     "text": [
      "C:\\Users\\baixi\\AppData\\Local\\Packages\\PythonSoftwareFoundation.Python.3.10_qbz5n2kfra8p0\\LocalCache\\local-packages\\Python310\\site-packages\\sklearn\\ensemble\\_bagging.py:782: DataConversionWarning: A column-vector y was passed when a 1d array was expected. Please change the shape of y to (n_samples, ), for example using ravel().\n",
      "  y = column_or_1d(y, warn=True)\n"
     ]
    }
   ],
   "source": [
    "# bagging\n",
    "from sklearn.ensemble import BaggingClassifier\n",
    "\n",
    "base_estimator = DecisionTreeClassifier(random_state=42)\n",
    "bagging_clf = BaggingClassifier(estimator=base_estimator, n_estimators=50, random_state=42)\n",
    "bagging_clf.fit(X_train, y_train)\n",
    "y_pred = bagging_clf.predict(X_test)\n",
    "\n",
    "print(\"Acurácia: \", accuracy_score(y_test, y_pred))\n",
    "print(\"\\nRelatório de Classificação:\\n\", classification_report(y_test, y_pred))"
   ]
  },
  {
   "cell_type": "code",
   "execution_count": 28,
   "metadata": {},
   "outputs": [
    {
     "name": "stderr",
     "output_type": "stream",
     "text": [
      "C:\\Users\\baixi\\AppData\\Local\\Packages\\PythonSoftwareFoundation.Python.3.10_qbz5n2kfra8p0\\LocalCache\\local-packages\\Python310\\site-packages\\sklearn\\utils\\validation.py:1300: DataConversionWarning: A column-vector y was passed when a 1d array was expected. Please change the shape of y to (n_samples, ), for example using ravel().\n",
      "  y = column_or_1d(y, warn=True)\n"
     ]
    },
    {
     "name": "stdout",
     "output_type": "stream",
     "text": [
      "Acurácia:  1.0\n",
      "\n",
      "Relatório de Classificação:\n",
      "               precision    recall  f1-score   support\n",
      "\n",
      "           1       1.00      1.00      1.00        31\n",
      "           2       1.00      1.00      1.00         9\n",
      "           3       1.00      1.00      1.00        13\n",
      "           4       1.00      1.00      1.00         8\n",
      "           5       1.00      1.00      1.00        10\n",
      "           6       1.00      1.00      1.00         3\n",
      "\n",
      "    accuracy                           1.00        74\n",
      "   macro avg       1.00      1.00      1.00        74\n",
      "weighted avg       1.00      1.00      1.00        74\n",
      "\n"
     ]
    }
   ],
   "source": [
    "#com o boosting\n",
    "from sklearn.impute import SimpleImputer\n",
    "from sklearn.ensemble import HistGradientBoostingClassifier\n",
    "\n",
    "# Impute missing values\n",
    "imputer = SimpleImputer(strategy='mean')\n",
    "X_train_imputed = imputer.fit_transform(X_train)\n",
    "X_test_imputed = imputer.transform(X_test)\n",
    "\n",
    "# Train the model with imputed data\n",
    "boosting_clf = HistGradientBoostingClassifier()\n",
    "boosting_clf.fit(X_train_imputed, y_train)\n",
    "\n",
    "# Make predictions with the test set\n",
    "y_pred = boosting_clf.predict(X_test_imputed)\n",
    "\n",
    "# Evaluate the model\n",
    "print(\"Acurácia: \", accuracy_score(y_test, y_pred))\n",
    "print(\"\\nRelatório de Classificação:\\n\", classification_report(y_test, y_pred))"
   ]
  },
  {
   "cell_type": "code",
   "execution_count": 29,
   "metadata": {},
   "outputs": [
    {
     "name": "stdout",
     "output_type": "stream",
     "text": [
      "Acurácia:  0.9864864864864865\n",
      "\n",
      "Relatório de Classificação:\n",
      "               precision    recall  f1-score   support\n",
      "\n",
      "           1       1.00      1.00      1.00        31\n",
      "           2       0.90      1.00      0.95         9\n",
      "           3       1.00      1.00      1.00        13\n",
      "           4       1.00      0.88      0.93         8\n",
      "           5       1.00      1.00      1.00        10\n",
      "           6       1.00      1.00      1.00         3\n",
      "\n",
      "    accuracy                           0.99        74\n",
      "   macro avg       0.98      0.98      0.98        74\n",
      "weighted avg       0.99      0.99      0.99        74\n",
      "\n"
     ]
    },
    {
     "name": "stderr",
     "output_type": "stream",
     "text": [
      "C:\\Users\\baixi\\AppData\\Local\\Packages\\PythonSoftwareFoundation.Python.3.10_qbz5n2kfra8p0\\LocalCache\\local-packages\\Python310\\site-packages\\sklearn\\base.py:1474: DataConversionWarning: A column-vector y was passed when a 1d array was expected. Please change the shape of y to (n_samples,), for example using ravel().\n",
      "  return fit_method(estimator, *args, **kwargs)\n"
     ]
    }
   ],
   "source": [
    "#random forest\n",
    "rf_clf = RandomForestClassifier(n_estimators=100, random_state=42)\n",
    "\n",
    "# Treinar o modelo\n",
    "rf_clf.fit(X_train, y_train)\n",
    "\n",
    "# Fazer previsões com o conjunto de teste\n",
    "y_pred = rf_clf.predict(X_test)\n",
    "\n",
    "# Avaliar o modelo\n",
    "print(\"Acurácia: \", accuracy_score(y_test, y_pred))\n",
    "print(\"\\nRelatório de Classificação:\\n\", classification_report(y_test, y_pred))"
   ]
  },
  {
   "cell_type": "code",
   "execution_count": 30,
   "metadata": {},
   "outputs": [
    {
     "data": {
      "image/png": "[encoded data removed]",
      "text/plain": [
       "<Figure size 1000x600 with 1 Axes>"
      ]
     },
     "metadata": {},
     "output_type": "display_data"
    }
   ],
   "source": [
    "import numpy as np\n",
    "import matplotlib.pyplot as plt\n",
    "import pandas as pd\n",
    "from sklearn.metrics import classification_report\n",
    "\n",
    "# Supondo que você já tenha as previsões e os relatórios de classificação para cada modelo\n",
    "# Exemplo de relatórios de classificação\n",
    "y_pred_decision_tree = clf.predict(X_test)  # Add this line to define y_pred_decision_tree\n",
    "y_pred_bagging = bagging_clf.predict(X_test)  # Define y_pred_bagging\n",
    "y_pred_boosting = boosting_clf.predict(X_test_imputed)  # Define y_pred_boosting\n",
    "y_pred_random_forest = rf_clf.predict(X_test)  # Define y_pred_random_forest\n",
    "\n",
    "reports = {\n",
    "    'Decision Tree': classification_report(y_test, y_pred_decision_tree, output_dict=True),\n",
    "    'Bagging': classification_report(y_test, y_pred_bagging, output_dict=True),\n",
    "    'Boosting': classification_report(y_test, y_pred_boosting, output_dict=True),\n",
    "    'Random Forest': classification_report(y_test, y_pred_random_forest, output_dict=True)\n",
    "}\n",
    "\n",
    "# Preparar os dados para o gráfico\n",
    "models = ['Decision Tree', 'Bagging', 'Boosting', 'Random Forest']\n",
    "recalls = []\n",
    "f1_scores = []\n",
    "\n",
    "for model in models:\n",
    "    report = reports[model]\n",
    "    # Extrair as métricas médias para cada modelo\n",
    "    recall_avg = report['macro avg']['recall']\n",
    "    f1_score_avg = report['macro avg']['f1-score']\n",
    "    recalls.append(recall_avg)\n",
    "    f1_scores.append(f1_score_avg)\n",
    "\n",
    "# Criar um DataFrame para facilitar a plotagem\n",
    "df = pd.DataFrame({\n",
    "    'Model': models,\n",
    "    'Recall': recalls,\n",
    "    'F1 Score': f1_scores\n",
    "})\n",
    "\n",
    "# Plotar o comparativo\n",
    "fig, ax = plt.subplots(figsize=(10, 6))\n",
    "df.plot(kind='bar', x='Model', y=['Recall', 'F1 Score'], ax=ax, color=['#1f77b4', '#ff7f0e'], edgecolor='black')\n",
    "plt.title('Comparativo de Recall e F1-Score por Modelo')\n",
    "plt.ylabel('Score')\n",
    "plt.xlabel('Modelo')\n",
    "plt.xticks(rotation=45)\n",
    "plt.legend(loc='best')\n",
    "plt.tight_layout()\n",
    "plt.show()"
   ]
  }
 ],
 "metadata": {
  "kernelspec": {
   "display_name": "Python 3",
   "language": "python",
   "name": "python3"
  },
  "language_info": {
   "codemirror_mode": {
    "name": "ipython",
    "version": 3
   },
   "file_extension": ".py",
   "mimetype": "text/x-python",
   "name": "python",
   "nbconvert_exporter": "python",
   "pygments_lexer": "ipython3",
   "version": "3.10.11"
  }
 },
 "nbformat": 4,
 "nbformat_minor": 2
}

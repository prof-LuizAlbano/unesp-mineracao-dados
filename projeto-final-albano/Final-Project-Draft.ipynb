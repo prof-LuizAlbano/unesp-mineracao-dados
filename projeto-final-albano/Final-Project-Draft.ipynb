{
 "cells": [
  {
   "cell_type": "markdown",
   "metadata": {},
   "source": [
    "# Extração Automática e Agrupamento de Palavras-chave em Artigos Científicos Utilizando Mineração de Texto"
   ]
  },
  {
   "cell_type": "markdown",
   "metadata": {},
   "source": [
    "Autor: Luiz Roberto Albano Junior <luiz.albano@unesp.br>\n",
    "\n",
    "---"
   ]
  },
  {
   "cell_type": "markdown",
   "metadata": {},
   "source": [
    "## Coleta de dados"
   ]
  }
 ],
 "metadata": {
  "language_info": {
   "name": "python"
  }
 },
 "nbformat": 4,
 "nbformat_minor": 2
}

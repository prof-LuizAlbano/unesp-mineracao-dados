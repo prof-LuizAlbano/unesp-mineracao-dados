{
 "cells": [
  {
   "cell_type": "markdown",
   "metadata": {},
   "source": [
    "# Extração Automática e Agrupamento de Palavras-chave em Artigos Científicos Utilizando Mineração de Texto"
   ]
  },
  {
   "cell_type": "markdown",
   "metadata": {},
   "source": [
    "Autor: Luiz Roberto Albano Junior <luiz.albano@unesp.br>\n",
    "\n",
    "---"
   ]
  },
  {
   "cell_type": "markdown",
   "metadata": {},
   "source": [
    "### Instalação de requisitos"
   ]
  },
  {
   "cell_type": "markdown",
   "metadata": {},
   "source": [
    "**Alerta:** A instalação dos pacotes abaixo pode consumir cerca de 1Gb de espaço."
   ]
  },
  {
   "cell_type": "code",
   "execution_count": 2,
   "metadata": {},
   "outputs": [
    {
     "name": "stdout",
     "output_type": "stream",
     "text": [
      "Requirement already satisfied: bertopic in /Users/luiz/Documents/Mestrado/Unesp/Mineracao/.venv/lib/python3.12/site-packages (0.16.4)\n",
      "Requirement already satisfied: hdbscan>=0.8.29 in /Users/luiz/Documents/Mestrado/Unesp/Mineracao/.venv/lib/python3.12/site-packages (from bertopic) (0.8.39)\n",
      "Requirement already satisfied: numpy>=1.20.0 in /Users/luiz/Documents/Mestrado/Unesp/Mineracao/.venv/lib/python3.12/site-packages (from bertopic) (2.0.2)\n",
      "Requirement already satisfied: pandas>=1.1.5 in /Users/luiz/Documents/Mestrado/Unesp/Mineracao/.venv/lib/python3.12/site-packages (from bertopic) (2.2.2)\n",
      "Requirement already satisfied: plotly>=4.7.0 in /Users/luiz/Documents/Mestrado/Unesp/Mineracao/.venv/lib/python3.12/site-packages (from bertopic) (5.24.1)\n",
      "Requirement already satisfied: scikit-learn>=0.22.2.post1 in /Users/luiz/Documents/Mestrado/Unesp/Mineracao/.venv/lib/python3.12/site-packages (from bertopic) (1.5.2)\n",
      "Requirement already satisfied: sentence-transformers>=0.4.1 in /Users/luiz/Documents/Mestrado/Unesp/Mineracao/.venv/lib/python3.12/site-packages (from bertopic) (3.2.1)\n",
      "Requirement already satisfied: tqdm>=4.41.1 in /Users/luiz/Documents/Mestrado/Unesp/Mineracao/.venv/lib/python3.12/site-packages (from bertopic) (4.67.0)\n",
      "Requirement already satisfied: umap-learn>=0.5.0 in /Users/luiz/Documents/Mestrado/Unesp/Mineracao/.venv/lib/python3.12/site-packages (from bertopic) (0.5.7)\n",
      "Requirement already satisfied: scipy>=1.0 in /Users/luiz/Documents/Mestrado/Unesp/Mineracao/.venv/lib/python3.12/site-packages (from hdbscan>=0.8.29->bertopic) (1.14.1)\n",
      "Requirement already satisfied: joblib>=1.0 in /Users/luiz/Documents/Mestrado/Unesp/Mineracao/.venv/lib/python3.12/site-packages (from hdbscan>=0.8.29->bertopic) (1.4.2)\n",
      "Requirement already satisfied: python-dateutil>=2.8.2 in /Users/luiz/Documents/Mestrado/Unesp/Mineracao/.venv/lib/python3.12/site-packages (from pandas>=1.1.5->bertopic) (2.9.0.post0)\n",
      "Requirement already satisfied: pytz>=2020.1 in /Users/luiz/Documents/Mestrado/Unesp/Mineracao/.venv/lib/python3.12/site-packages (from pandas>=1.1.5->bertopic) (2024.1)\n",
      "Requirement already satisfied: tzdata>=2022.7 in /Users/luiz/Documents/Mestrado/Unesp/Mineracao/.venv/lib/python3.12/site-packages (from pandas>=1.1.5->bertopic) (2024.1)\n",
      "Requirement already satisfied: tenacity>=6.2.0 in /Users/luiz/Documents/Mestrado/Unesp/Mineracao/.venv/lib/python3.12/site-packages (from plotly>=4.7.0->bertopic) (9.0.0)\n",
      "Requirement already satisfied: packaging in /Users/luiz/Documents/Mestrado/Unesp/Mineracao/.venv/lib/python3.12/site-packages (from plotly>=4.7.0->bertopic) (24.1)\n",
      "Requirement already satisfied: threadpoolctl>=3.1.0 in /Users/luiz/Documents/Mestrado/Unesp/Mineracao/.venv/lib/python3.12/site-packages (from scikit-learn>=0.22.2.post1->bertopic) (3.5.0)\n",
      "Requirement already satisfied: transformers<5.0.0,>=4.41.0 in /Users/luiz/Documents/Mestrado/Unesp/Mineracao/.venv/lib/python3.12/site-packages (from sentence-transformers>=0.4.1->bertopic) (4.46.2)\n",
      "Requirement already satisfied: torch>=1.11.0 in /Users/luiz/Documents/Mestrado/Unesp/Mineracao/.venv/lib/python3.12/site-packages (from sentence-transformers>=0.4.1->bertopic) (2.2.2)\n",
      "Requirement already satisfied: huggingface-hub>=0.20.0 in /Users/luiz/Documents/Mestrado/Unesp/Mineracao/.venv/lib/python3.12/site-packages (from sentence-transformers>=0.4.1->bertopic) (0.26.2)\n",
      "Requirement already satisfied: Pillow in /Users/luiz/Documents/Mestrado/Unesp/Mineracao/.venv/lib/python3.12/site-packages (from sentence-transformers>=0.4.1->bertopic) (10.4.0)\n",
      "Requirement already satisfied: numba>=0.51.2 in /Users/luiz/Documents/Mestrado/Unesp/Mineracao/.venv/lib/python3.12/site-packages (from umap-learn>=0.5.0->bertopic) (0.60.0)\n",
      "Requirement already satisfied: pynndescent>=0.5 in /Users/luiz/Documents/Mestrado/Unesp/Mineracao/.venv/lib/python3.12/site-packages (from umap-learn>=0.5.0->bertopic) (0.5.13)\n",
      "Requirement already satisfied: filelock in /Users/luiz/Documents/Mestrado/Unesp/Mineracao/.venv/lib/python3.12/site-packages (from huggingface-hub>=0.20.0->sentence-transformers>=0.4.1->bertopic) (3.16.1)\n",
      "Requirement already satisfied: fsspec>=2023.5.0 in /Users/luiz/Documents/Mestrado/Unesp/Mineracao/.venv/lib/python3.12/site-packages (from huggingface-hub>=0.20.0->sentence-transformers>=0.4.1->bertopic) (2024.10.0)\n",
      "Requirement already satisfied: pyyaml>=5.1 in /Users/luiz/Documents/Mestrado/Unesp/Mineracao/.venv/lib/python3.12/site-packages (from huggingface-hub>=0.20.0->sentence-transformers>=0.4.1->bertopic) (6.0.2)\n",
      "Requirement already satisfied: requests in /Users/luiz/Documents/Mestrado/Unesp/Mineracao/.venv/lib/python3.12/site-packages (from huggingface-hub>=0.20.0->sentence-transformers>=0.4.1->bertopic) (2.32.3)\n",
      "Requirement already satisfied: typing-extensions>=3.7.4.3 in /Users/luiz/Documents/Mestrado/Unesp/Mineracao/.venv/lib/python3.12/site-packages (from huggingface-hub>=0.20.0->sentence-transformers>=0.4.1->bertopic) (4.12.2)\n",
      "Requirement already satisfied: llvmlite<0.44,>=0.43.0dev0 in /Users/luiz/Documents/Mestrado/Unesp/Mineracao/.venv/lib/python3.12/site-packages (from numba>=0.51.2->umap-learn>=0.5.0->bertopic) (0.43.0)\n",
      "Requirement already satisfied: six>=1.5 in /Users/luiz/Documents/Mestrado/Unesp/Mineracao/.venv/lib/python3.12/site-packages (from python-dateutil>=2.8.2->pandas>=1.1.5->bertopic) (1.16.0)\n",
      "Requirement already satisfied: sympy in /Users/luiz/Documents/Mestrado/Unesp/Mineracao/.venv/lib/python3.12/site-packages (from torch>=1.11.0->sentence-transformers>=0.4.1->bertopic) (1.13.3)\n",
      "Requirement already satisfied: networkx in /Users/luiz/Documents/Mestrado/Unesp/Mineracao/.venv/lib/python3.12/site-packages (from torch>=1.11.0->sentence-transformers>=0.4.1->bertopic) (3.4.2)\n",
      "Requirement already satisfied: jinja2 in /Users/luiz/Documents/Mestrado/Unesp/Mineracao/.venv/lib/python3.12/site-packages (from torch>=1.11.0->sentence-transformers>=0.4.1->bertopic) (3.1.4)\n",
      "Requirement already satisfied: regex!=2019.12.17 in /Users/luiz/Documents/Mestrado/Unesp/Mineracao/.venv/lib/python3.12/site-packages (from transformers<5.0.0,>=4.41.0->sentence-transformers>=0.4.1->bertopic) (2024.11.6)\n",
      "Requirement already satisfied: safetensors>=0.4.1 in /Users/luiz/Documents/Mestrado/Unesp/Mineracao/.venv/lib/python3.12/site-packages (from transformers<5.0.0,>=4.41.0->sentence-transformers>=0.4.1->bertopic) (0.4.5)\n",
      "Requirement already satisfied: tokenizers<0.21,>=0.20 in /Users/luiz/Documents/Mestrado/Unesp/Mineracao/.venv/lib/python3.12/site-packages (from transformers<5.0.0,>=4.41.0->sentence-transformers>=0.4.1->bertopic) (0.20.3)\n",
      "Requirement already satisfied: MarkupSafe>=2.0 in /Users/luiz/Documents/Mestrado/Unesp/Mineracao/.venv/lib/python3.12/site-packages (from jinja2->torch>=1.11.0->sentence-transformers>=0.4.1->bertopic) (2.1.5)\n",
      "Requirement already satisfied: charset-normalizer<4,>=2 in /Users/luiz/Documents/Mestrado/Unesp/Mineracao/.venv/lib/python3.12/site-packages (from requests->huggingface-hub>=0.20.0->sentence-transformers>=0.4.1->bertopic) (3.3.2)\n",
      "Requirement already satisfied: idna<4,>=2.5 in /Users/luiz/Documents/Mestrado/Unesp/Mineracao/.venv/lib/python3.12/site-packages (from requests->huggingface-hub>=0.20.0->sentence-transformers>=0.4.1->bertopic) (3.10)\n",
      "Requirement already satisfied: urllib3<3,>=1.21.1 in /Users/luiz/Documents/Mestrado/Unesp/Mineracao/.venv/lib/python3.12/site-packages (from requests->huggingface-hub>=0.20.0->sentence-transformers>=0.4.1->bertopic) (2.2.3)\n",
      "Requirement already satisfied: certifi>=2017.4.17 in /Users/luiz/Documents/Mestrado/Unesp/Mineracao/.venv/lib/python3.12/site-packages (from requests->huggingface-hub>=0.20.0->sentence-transformers>=0.4.1->bertopic) (2024.8.30)\n",
      "Requirement already satisfied: mpmath<1.4,>=1.1.0 in /Users/luiz/Documents/Mestrado/Unesp/Mineracao/.venv/lib/python3.12/site-packages (from sympy->torch>=1.11.0->sentence-transformers>=0.4.1->bertopic) (1.3.0)\n",
      "\n",
      "A module that was compiled using NumPy 1.x cannot be run in\n",
      "NumPy 2.0.2 as it may crash. To support both 1.x and 2.x\n",
      "versions of NumPy, modules must be compiled with NumPy 2.0.\n",
      "Some module may need to rebuild instead e.g. with 'pybind11>=2.12'.\n",
      "\n",
      "If you are a user of the module, the easiest solution will be to\n",
      "downgrade to 'numpy<2' or try to upgrade the affected module.\n",
      "We expect that some modules will need time to support NumPy 2.\n",
      "\n",
      "Traceback (most recent call last):  File \"<frozen runpy>\", line 189, in _run_module_as_main\n",
      "  File \"<frozen runpy>\", line 148, in _get_module_details\n",
      "  File \"<frozen runpy>\", line 112, in _get_module_details\n",
      "  File \"/Users/luiz/Documents/Mestrado/Unesp/Mineracao/.venv/lib/python3.12/site-packages/spacy/__init__.py\", line 6, in <module>\n",
      "    from .errors import setup_default_warnings\n",
      "  File \"/Users/luiz/Documents/Mestrado/Unesp/Mineracao/.venv/lib/python3.12/site-packages/spacy/errors.py\", line 3, in <module>\n",
      "    from .compat import Literal\n",
      "  File \"/Users/luiz/Documents/Mestrado/Unesp/Mineracao/.venv/lib/python3.12/site-packages/spacy/compat.py\", line 4, in <module>\n",
      "    from thinc.util import copy_array\n",
      "  File \"/Users/luiz/Documents/Mestrado/Unesp/Mineracao/.venv/lib/python3.12/site-packages/thinc/__init__.py\", line 5, in <module>\n",
      "    from .config import registry\n",
      "  File \"/Users/luiz/Documents/Mestrado/Unesp/Mineracao/.venv/lib/python3.12/site-packages/thinc/config.py\", line 5, in <module>\n",
      "    from .types import Decorator\n",
      "  File \"/Users/luiz/Documents/Mestrado/Unesp/Mineracao/.venv/lib/python3.12/site-packages/thinc/types.py\", line 25, in <module>\n",
      "    from .compat import cupy, has_cupy\n",
      "  File \"/Users/luiz/Documents/Mestrado/Unesp/Mineracao/.venv/lib/python3.12/site-packages/thinc/compat.py\", line 35, in <module>\n",
      "    import torch\n",
      "  File \"/Users/luiz/Documents/Mestrado/Unesp/Mineracao/.venv/lib/python3.12/site-packages/torch/__init__.py\", line 1477, in <module>\n",
      "    from .functional import *  # noqa: F403\n",
      "  File \"/Users/luiz/Documents/Mestrado/Unesp/Mineracao/.venv/lib/python3.12/site-packages/torch/functional.py\", line 9, in <module>\n",
      "    import torch.nn.functional as F\n",
      "  File \"/Users/luiz/Documents/Mestrado/Unesp/Mineracao/.venv/lib/python3.12/site-packages/torch/nn/__init__.py\", line 1, in <module>\n",
      "    from .modules import *  # noqa: F403\n",
      "  File \"/Users/luiz/Documents/Mestrado/Unesp/Mineracao/.venv/lib/python3.12/site-packages/torch/nn/modules/__init__.py\", line 35, in <module>\n",
      "    from .transformer import TransformerEncoder, TransformerDecoder, \\\n",
      "  File \"/Users/luiz/Documents/Mestrado/Unesp/Mineracao/.venv/lib/python3.12/site-packages/torch/nn/modules/transformer.py\", line 20, in <module>\n",
      "    device: torch.device = torch.device(torch._C._get_default_device()),  # torch.device('cpu'),\n",
      "/Users/luiz/Documents/Mestrado/Unesp/Mineracao/.venv/lib/python3.12/site-packages/torch/nn/modules/transformer.py:20: UserWarning: Failed to initialize NumPy: _ARRAY_API not found (Triggered internally at /Users/runner/work/pytorch/pytorch/pytorch/torch/csrc/utils/tensor_numpy.cpp:84.)\n",
      "  device: torch.device = torch.device(torch._C._get_default_device()),  # torch.device('cpu'),\n",
      "Collecting pt-core-news-md==3.8.0\n",
      "  Downloading https://github.com/explosion/spacy-models/releases/download/pt_core_news_md-3.8.0/pt_core_news_md-3.8.0-py3-none-any.whl (42.4 MB)\n",
      "\u001b[2K     \u001b[90m━━━━━━━━━━━━━━━━━━━━━━━━━━━━━━━━━━━━━━━━\u001b[0m \u001b[32m42.4/42.4 MB\u001b[0m \u001b[31m2.1 MB/s\u001b[0m eta \u001b[36m0:00:00\u001b[0m00:01\u001b[0m00:01\u001b[0mm\n",
      "\u001b[?25h\u001b[38;5;2m✔ Download and installation successful\u001b[0m\n",
      "You can now load the package via spacy.load('pt_core_news_md')\n"
     ]
    }
   ],
   "source": [
    "!pip install bertopic\n",
    "!python -m spacy download pt_core_news_md"
   ]
  },
  {
   "cell_type": "markdown",
   "metadata": {},
   "source": [
    "### Importação das bibliotecas necessárias"
   ]
  },
  {
   "cell_type": "code",
   "execution_count": 4,
   "metadata": {},
   "outputs": [
    {
     "name": "stderr",
     "output_type": "stream",
     "text": [
      "/Users/luiz/Documents/Mestrado/Unesp/Mineracao/.venv/lib/python3.12/site-packages/tqdm/auto.py:21: TqdmWarning: IProgress not found. Please update jupyter and ipywidgets. See https://ipywidgets.readthedocs.io/en/stable/user_install.html\n",
      "  from .autonotebook import tqdm as notebook_tqdm\n"
     ]
    }
   ],
   "source": [
    "import sqlite3 as db\n",
    "import pandas as pd\n",
    "import spacy\n",
    "from bertopic import BERTopic"
   ]
  },
  {
   "cell_type": "markdown",
   "metadata": {},
   "source": [
    "## Coleta de dados"
   ]
  },
  {
   "cell_type": "markdown",
   "metadata": {},
   "source": [
    "A base de dados de artigos científicos foi obtida a partir da plataforma SciELO Brasil (https://www.scielo.br/). A escolha da plataforma deu-se após pesquisas de datasets contendo dados de artigos científicos. A excassez de um banco de dados confiável e que disponibilizasse o conteúdo destes artigos, fez com que pesquisasse serviços e formas de obter estas informações diretamente nas plataformas.\n",
    "\n",
    "Após a análise de algumas plataformas, verifiquei a plataforma SciELO possibilitava realizar a coleta dos dados a partir de um script que realizou a \"raspagem\" dos dados. O download da base utilizada para este trabalho pode ser baixada em:<br>\n",
    "https://drive.google.com/file/d/1LAfZSNz7AtfgZrbwKm2STH5FBvNBz2u-/view?usp=sharing\n",
    "<br><br>\n",
    "Formato: SQLite"
   ]
  },
  {
   "cell_type": "code",
   "execution_count": 5,
   "metadata": {},
   "outputs": [],
   "source": [
    "conn = db.connect(\"dataset/scielo.papers.db\")\n",
    "cur = conn.cursor()\n",
    "\n",
    "resultset = cur.execute(\"SELECT * FROM papers WHERE tokens IS NULL\")\n",
    "papers = resultset.fetchall()"
   ]
  },
  {
   "cell_type": "markdown",
   "metadata": {},
   "source": [
    "## Limpeza e Pré-processamento de Texto (Tokenização)"
   ]
  },
  {
   "cell_type": "code",
   "execution_count": 6,
   "metadata": {},
   "outputs": [],
   "source": [
    "pln = spacy.load(\"pt_core_news_md\")"
   ]
  },
  {
   "cell_type": "code",
   "execution_count": 7,
   "metadata": {},
   "outputs": [],
   "source": [
    "for paper in papers:\n",
    "    document = pln(paper[7])\n",
    "    \n",
    "    tokens = []\n",
    "    for token in document:\n",
    "        if token.pos_ == \"VERB\" and token.is_alpha and not (token.is_stop) :\n",
    "            tokens.append(str.lower(token.lemma_))\n",
    "        elif not(token.pos_ == \"VERB\")  and token.is_alpha and not(token.is_stop) :\n",
    "            tokens.append(str.lower(token.text))\n",
    "    \n",
    "    # Atualiza o registro na tabela\n",
    "    cur.execute(\"UPDATE papers SET tokens = ? WHERE ID = ?\", (\" \".join(tokens), paper[0]))\n",
    "    conn.commit()"
   ]
  }
 ],
 "metadata": {
  "kernelspec": {
   "display_name": ".venv",
   "language": "python",
   "name": "python3"
  },
  "language_info": {
   "codemirror_mode": {
    "name": "ipython",
    "version": 3
   },
   "file_extension": ".py",
   "mimetype": "text/x-python",
   "name": "python",
   "nbconvert_exporter": "python",
   "pygments_lexer": "ipython3",
   "version": "3.12.3"
  }
 },
 "nbformat": 4,
 "nbformat_minor": 2
}

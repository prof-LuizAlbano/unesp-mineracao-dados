{
 "cells": [
  {
   "cell_type": "markdown",
   "metadata": {},
   "source": [
    "### **Importação das bibliotecas**"
   ]
  },
  {
   "cell_type": "code",
   "execution_count": 2,
   "metadata": {},
   "outputs": [],
   "source": [
    "import pandas as pd\n",
    "import numpy as np\n",
    "from plotnine import *\n",
    "import matplotlib.pyplot as plt"
   ]
  },
  {
   "cell_type": "markdown",
   "metadata": {},
   "source": [
    "### Base de Dados\n",
    "\n",
    "Para fins de estudo nesta tarefa, iremos utilizar a base de dados contento informações meterológica da cidade de Campo Grande/MS, durante o ano de 2023. A base de dados foi obtida a partir dos dados históricos anuais do Instituto Nacional de Meteorolgia (INMET), disponível em: https://portal.inmet.gov.br/uploads/dadoshistoricos/2023.zip\n",
    "\n",
    "**Download do base**<br>\n",
    "O código abaixo realiza o download da base de dados a partir do repositório github:"
   ]
  },
  {
   "cell_type": "code",
   "execution_count": 4,
   "metadata": {},
   "outputs": [
    {
     "name": "stdout",
     "output_type": "stream",
     "text": [
      "zsh:1: command not found: wget\n"
     ]
    }
   ],
   "source": [
    "#Download da base de dados\n",
    "!wget https://github.com/prof-LuizAlbano/unesp-mineracao-dados/blob/main/datasets/inmet/INMET_CO_MS_A702_CAMPO%20GRANDE_01-01-2023_A_31-12-2023.CSV"
   ]
  },
  {
   "cell_type": "code",
   "execution_count": 16,
   "metadata": {},
   "outputs": [
    {
     "data": {
      "text/html": [
       "<div>\n",
       "<style scoped>\n",
       "    .dataframe tbody tr th:only-of-type {\n",
       "        vertical-align: middle;\n",
       "    }\n",
       "\n",
       "    .dataframe tbody tr th {\n",
       "        vertical-align: top;\n",
       "    }\n",
       "\n",
       "    .dataframe thead th {\n",
       "        text-align: right;\n",
       "    }\n",
       "</style>\n",
       "<table border=\"1\" class=\"dataframe\">\n",
       "  <thead>\n",
       "    <tr style=\"text-align: right;\">\n",
       "      <th></th>\n",
       "      <th>UMIDADE REL. MAX. NA HORA ANT. (AUT) (%)</th>\n",
       "      <th>UMIDADE REL. MIN. NA HORA ANT. (AUT) (%)</th>\n",
       "      <th>UMIDADE RELATIVA DO AR, HORARIA (%)</th>\n",
       "      <th>VENTO, DIREÇÃO HORARIA (gr) (° (gr))</th>\n",
       "      <th>Unnamed: 19</th>\n",
       "    </tr>\n",
       "  </thead>\n",
       "  <tbody>\n",
       "    <tr>\n",
       "      <th>count</th>\n",
       "      <td>8757.000000</td>\n",
       "      <td>8757.000000</td>\n",
       "      <td>8757.000000</td>\n",
       "      <td>8754.000000</td>\n",
       "      <td>0.0</td>\n",
       "    </tr>\n",
       "    <tr>\n",
       "      <th>mean</th>\n",
       "      <td>67.576682</td>\n",
       "      <td>61.591070</td>\n",
       "      <td>64.606486</td>\n",
       "      <td>153.801805</td>\n",
       "      <td>NaN</td>\n",
       "    </tr>\n",
       "    <tr>\n",
       "      <th>std</th>\n",
       "      <td>18.347409</td>\n",
       "      <td>19.162962</td>\n",
       "      <td>18.866098</td>\n",
       "      <td>116.905497</td>\n",
       "      <td>NaN</td>\n",
       "    </tr>\n",
       "    <tr>\n",
       "      <th>min</th>\n",
       "      <td>13.000000</td>\n",
       "      <td>11.000000</td>\n",
       "      <td>12.000000</td>\n",
       "      <td>1.000000</td>\n",
       "      <td>NaN</td>\n",
       "    </tr>\n",
       "    <tr>\n",
       "      <th>25%</th>\n",
       "      <td>54.000000</td>\n",
       "      <td>47.000000</td>\n",
       "      <td>51.000000</td>\n",
       "      <td>61.000000</td>\n",
       "      <td>NaN</td>\n",
       "    </tr>\n",
       "    <tr>\n",
       "      <th>50%</th>\n",
       "      <td>69.000000</td>\n",
       "      <td>62.000000</td>\n",
       "      <td>65.000000</td>\n",
       "      <td>107.000000</td>\n",
       "      <td>NaN</td>\n",
       "    </tr>\n",
       "    <tr>\n",
       "      <th>75%</th>\n",
       "      <td>84.000000</td>\n",
       "      <td>78.000000</td>\n",
       "      <td>81.000000</td>\n",
       "      <td>290.000000</td>\n",
       "      <td>NaN</td>\n",
       "    </tr>\n",
       "    <tr>\n",
       "      <th>max</th>\n",
       "      <td>96.000000</td>\n",
       "      <td>96.000000</td>\n",
       "      <td>96.000000</td>\n",
       "      <td>360.000000</td>\n",
       "      <td>NaN</td>\n",
       "    </tr>\n",
       "  </tbody>\n",
       "</table>\n",
       "</div>"
      ],
      "text/plain": [
       "       UMIDADE REL. MAX. NA HORA ANT. (AUT) (%)  \\\n",
       "count                               8757.000000   \n",
       "mean                                  67.576682   \n",
       "std                                   18.347409   \n",
       "min                                   13.000000   \n",
       "25%                                   54.000000   \n",
       "50%                                   69.000000   \n",
       "75%                                   84.000000   \n",
       "max                                   96.000000   \n",
       "\n",
       "       UMIDADE REL. MIN. NA HORA ANT. (AUT) (%)  \\\n",
       "count                               8757.000000   \n",
       "mean                                  61.591070   \n",
       "std                                   19.162962   \n",
       "min                                   11.000000   \n",
       "25%                                   47.000000   \n",
       "50%                                   62.000000   \n",
       "75%                                   78.000000   \n",
       "max                                   96.000000   \n",
       "\n",
       "       UMIDADE RELATIVA DO AR, HORARIA (%)  \\\n",
       "count                          8757.000000   \n",
       "mean                             64.606486   \n",
       "std                              18.866098   \n",
       "min                              12.000000   \n",
       "25%                              51.000000   \n",
       "50%                              65.000000   \n",
       "75%                              81.000000   \n",
       "max                              96.000000   \n",
       "\n",
       "       VENTO, DIREÇÃO HORARIA (gr) (° (gr))  Unnamed: 19  \n",
       "count                           8754.000000          0.0  \n",
       "mean                             153.801805          NaN  \n",
       "std                              116.905497          NaN  \n",
       "min                                1.000000          NaN  \n",
       "25%                               61.000000          NaN  \n",
       "50%                              107.000000          NaN  \n",
       "75%                              290.000000          NaN  \n",
       "max                              360.000000          NaN  "
      ]
     },
     "execution_count": 16,
     "metadata": {},
     "output_type": "execute_result"
    }
   ],
   "source": [
    "#Leitura do arquivo de dados\n",
    "df = pd.read_csv('../datasets/inmet/INMET_CO_MS_A702_CAMPO-GRANDE_01-01-2023_A_31-12-2023.CSV', sep=';', low_memory=False, encoding='iso-8859-1', skiprows=8)\n",
    "df.describe()"
   ]
  }
 ],
 "metadata": {
  "kernelspec": {
   "display_name": ".venv",
   "language": "python",
   "name": "python3"
  },
  "language_info": {
   "codemirror_mode": {
    "name": "ipython",
    "version": 3
   },
   "file_extension": ".py",
   "mimetype": "text/x-python",
   "name": "python",
   "nbconvert_exporter": "python",
   "pygments_lexer": "ipython3",
   "version": "3.12.3"
  }
 },
 "nbformat": 4,
 "nbformat_minor": 2
}

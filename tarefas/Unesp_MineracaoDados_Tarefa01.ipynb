{
 "cells": [
  {
   "cell_type": "markdown",
   "metadata": {},
   "source": [
    "### **Importação das bibliotecas**"
   ]
  },
  {
   "cell_type": "code",
   "execution_count": 53,
   "metadata": {},
   "outputs": [],
   "source": [
    "import pandas as pd\n",
    "import numpy as np\n",
    "from plotnine import *\n",
    "import matplotlib.pyplot as plt"
   ]
  },
  {
   "cell_type": "markdown",
   "metadata": {},
   "source": [
    "### Base de Dados\n",
    "\n",
    "Para fins de estudo nesta tarefa, iremos utilizar a base de dados contento informações meterológica da cidade de Campo Grande/MS, durante o ano de 2023. A base de dados foi obtida a partir dos dados históricos anuais do Instituto Nacional de Meteorolgia (INMET), disponível em: https://portal.inmet.gov.br/uploads/dadoshistoricos/2023.zip\n",
    "\n",
    "**Download do base**<br>\n",
    "O código abaixo realiza o download da base de dados a partir do repositório github:\n",
    "\n",
    "https://github.com/prof-LuizAlbano/unesp-mineracao-dados/blob/main/datasets/inmet/INMET_CO_MS_A702_CAMPO%20GRANDE_01-01-2023_A_31-12-2023.CSV"
   ]
  },
  {
   "cell_type": "markdown",
   "metadata": {},
   "source": []
  },
  {
   "cell_type": "code",
   "execution_count": 54,
   "metadata": {},
   "outputs": [],
   "source": [
    "#Download da base de dados (Linux)\n",
    "#!wget https://github.com/prof-LuizAlbano/unesp-mineracao-dados/blob/main/datasets/inmet/INMET_CO_MS_A702_CAMPO%20GRANDE_01-01-2023_A_31-12-2023.CSV"
   ]
  },
  {
   "cell_type": "code",
   "execution_count": 55,
   "metadata": {},
   "outputs": [
    {
     "name": "stdout",
     "output_type": "stream",
     "text": [
      "Number of instances = 8760\n",
      "Number of attributes = 19\n"
     ]
    },
    {
     "data": {
      "text/html": [
       "<div>\n",
       "<style scoped>\n",
       "    .dataframe tbody tr th:only-of-type {\n",
       "        vertical-align: middle;\n",
       "    }\n",
       "\n",
       "    .dataframe tbody tr th {\n",
       "        vertical-align: top;\n",
       "    }\n",
       "\n",
       "    .dataframe thead th {\n",
       "        text-align: right;\n",
       "    }\n",
       "</style>\n",
       "<table border=\"1\" class=\"dataframe\">\n",
       "  <thead>\n",
       "    <tr style=\"text-align: right;\">\n",
       "      <th></th>\n",
       "      <th>Data</th>\n",
       "      <th>Hora UTC</th>\n",
       "      <th>PRECIPITAÇÃO TOTAL, HORÁRIO (mm)</th>\n",
       "      <th>PRESSAO ATMOSFERICA AO NIVEL DA ESTACAO, HORARIA (mB)</th>\n",
       "      <th>PRESSÃO ATMOSFERICA MAX.NA HORA ANT. (AUT) (mB)</th>\n",
       "      <th>PRESSÃO ATMOSFERICA MIN. NA HORA ANT. (AUT) (mB)</th>\n",
       "      <th>RADIACAO GLOBAL (Kj/m²)</th>\n",
       "      <th>TEMPERATURA DO AR - BULBO SECO, HORARIA (°C)</th>\n",
       "      <th>TEMPERATURA DO PONTO DE ORVALHO (°C)</th>\n",
       "      <th>TEMPERATURA MÁXIMA NA HORA ANT. (AUT) (°C)</th>\n",
       "      <th>TEMPERATURA MÍNIMA NA HORA ANT. (AUT) (°C)</th>\n",
       "      <th>TEMPERATURA ORVALHO MAX. NA HORA ANT. (AUT) (°C)</th>\n",
       "      <th>TEMPERATURA ORVALHO MIN. NA HORA ANT. (AUT) (°C)</th>\n",
       "      <th>UMIDADE REL. MAX. NA HORA ANT. (AUT) (%)</th>\n",
       "      <th>UMIDADE REL. MIN. NA HORA ANT. (AUT) (%)</th>\n",
       "      <th>UMIDADE RELATIVA DO AR, HORARIA (%)</th>\n",
       "      <th>VENTO, DIREÇÃO HORARIA (gr) (° (gr))</th>\n",
       "      <th>VENTO, RAJADA MAXIMA (m/s)</th>\n",
       "      <th>VENTO, VELOCIDADE HORARIA (m/s)</th>\n",
       "      <th>Unnamed: 19</th>\n",
       "    </tr>\n",
       "  </thead>\n",
       "  <tbody>\n",
       "    <tr>\n",
       "      <th>0</th>\n",
       "      <td>2023/01/01</td>\n",
       "      <td>0000 UTC</td>\n",
       "      <td>0</td>\n",
       "      <td>951</td>\n",
       "      <td>951</td>\n",
       "      <td>950,6</td>\n",
       "      <td>0</td>\n",
       "      <td>24,3</td>\n",
       "      <td>21,1</td>\n",
       "      <td>25,9</td>\n",
       "      <td>24,3</td>\n",
       "      <td>21,6</td>\n",
       "      <td>20,9</td>\n",
       "      <td>83.0</td>\n",
       "      <td>75.0</td>\n",
       "      <td>83.0</td>\n",
       "      <td>191.0</td>\n",
       "      <td>2,5</td>\n",
       "      <td>,6</td>\n",
       "      <td>NaN</td>\n",
       "    </tr>\n",
       "    <tr>\n",
       "      <th>1</th>\n",
       "      <td>2023/01/01</td>\n",
       "      <td>0100 UTC</td>\n",
       "      <td>0</td>\n",
       "      <td>951,8</td>\n",
       "      <td>951,8</td>\n",
       "      <td>951</td>\n",
       "      <td>0</td>\n",
       "      <td>24,9</td>\n",
       "      <td>21,4</td>\n",
       "      <td>25</td>\n",
       "      <td>24,1</td>\n",
       "      <td>21,6</td>\n",
       "      <td>20,9</td>\n",
       "      <td>85.0</td>\n",
       "      <td>78.0</td>\n",
       "      <td>81.0</td>\n",
       "      <td>47.0</td>\n",
       "      <td>2,5</td>\n",
       "      <td>1,5</td>\n",
       "      <td>NaN</td>\n",
       "    </tr>\n",
       "    <tr>\n",
       "      <th>2</th>\n",
       "      <td>2023/01/01</td>\n",
       "      <td>0200 UTC</td>\n",
       "      <td>0</td>\n",
       "      <td>952,1</td>\n",
       "      <td>952,2</td>\n",
       "      <td>951,8</td>\n",
       "      <td>0</td>\n",
       "      <td>23,6</td>\n",
       "      <td>20,1</td>\n",
       "      <td>25,2</td>\n",
       "      <td>23,6</td>\n",
       "      <td>21,2</td>\n",
       "      <td>19,9</td>\n",
       "      <td>81.0</td>\n",
       "      <td>74.0</td>\n",
       "      <td>81.0</td>\n",
       "      <td>302.0</td>\n",
       "      <td>3,8</td>\n",
       "      <td>,5</td>\n",
       "      <td>NaN</td>\n",
       "    </tr>\n",
       "    <tr>\n",
       "      <th>3</th>\n",
       "      <td>2023/01/01</td>\n",
       "      <td>0300 UTC</td>\n",
       "      <td>0</td>\n",
       "      <td>951,8</td>\n",
       "      <td>952,2</td>\n",
       "      <td>951,8</td>\n",
       "      <td>0</td>\n",
       "      <td>23,6</td>\n",
       "      <td>20,4</td>\n",
       "      <td>23,9</td>\n",
       "      <td>23,5</td>\n",
       "      <td>20,4</td>\n",
       "      <td>20</td>\n",
       "      <td>83.0</td>\n",
       "      <td>79.0</td>\n",
       "      <td>82.0</td>\n",
       "      <td>42.0</td>\n",
       "      <td>3,3</td>\n",
       "      <td>1,9</td>\n",
       "      <td>NaN</td>\n",
       "    </tr>\n",
       "    <tr>\n",
       "      <th>4</th>\n",
       "      <td>2023/01/01</td>\n",
       "      <td>0400 UTC</td>\n",
       "      <td>0</td>\n",
       "      <td>951,2</td>\n",
       "      <td>951,8</td>\n",
       "      <td>951,2</td>\n",
       "      <td>0</td>\n",
       "      <td>23,1</td>\n",
       "      <td>20,4</td>\n",
       "      <td>23,6</td>\n",
       "      <td>22,9</td>\n",
       "      <td>20,5</td>\n",
       "      <td>20,3</td>\n",
       "      <td>85.0</td>\n",
       "      <td>82.0</td>\n",
       "      <td>85.0</td>\n",
       "      <td>48.0</td>\n",
       "      <td>3</td>\n",
       "      <td>1,5</td>\n",
       "      <td>NaN</td>\n",
       "    </tr>\n",
       "  </tbody>\n",
       "</table>\n",
       "</div>"
      ],
      "text/plain": [
       "         Data  Hora UTC PRECIPITAÇÃO TOTAL, HORÁRIO (mm)  \\\n",
       "0  2023/01/01  0000 UTC                                0   \n",
       "1  2023/01/01  0100 UTC                                0   \n",
       "2  2023/01/01  0200 UTC                                0   \n",
       "3  2023/01/01  0300 UTC                                0   \n",
       "4  2023/01/01  0400 UTC                                0   \n",
       "\n",
       "  PRESSAO ATMOSFERICA AO NIVEL DA ESTACAO, HORARIA (mB)  \\\n",
       "0                                                951      \n",
       "1                                              951,8      \n",
       "2                                              952,1      \n",
       "3                                              951,8      \n",
       "4                                              951,2      \n",
       "\n",
       "  PRESSÃO ATMOSFERICA MAX.NA HORA ANT. (AUT) (mB)  \\\n",
       "0                                             951   \n",
       "1                                           951,8   \n",
       "2                                           952,2   \n",
       "3                                           952,2   \n",
       "4                                           951,8   \n",
       "\n",
       "  PRESSÃO ATMOSFERICA MIN. NA HORA ANT. (AUT) (mB) RADIACAO GLOBAL (Kj/m²)  \\\n",
       "0                                            950,6                       0   \n",
       "1                                              951                       0   \n",
       "2                                            951,8                       0   \n",
       "3                                            951,8                       0   \n",
       "4                                            951,2                       0   \n",
       "\n",
       "  TEMPERATURA DO AR - BULBO SECO, HORARIA (°C)  \\\n",
       "0                                         24,3   \n",
       "1                                         24,9   \n",
       "2                                         23,6   \n",
       "3                                         23,6   \n",
       "4                                         23,1   \n",
       "\n",
       "  TEMPERATURA DO PONTO DE ORVALHO (°C)  \\\n",
       "0                                 21,1   \n",
       "1                                 21,4   \n",
       "2                                 20,1   \n",
       "3                                 20,4   \n",
       "4                                 20,4   \n",
       "\n",
       "  TEMPERATURA MÁXIMA NA HORA ANT. (AUT) (°C)  \\\n",
       "0                                       25,9   \n",
       "1                                         25   \n",
       "2                                       25,2   \n",
       "3                                       23,9   \n",
       "4                                       23,6   \n",
       "\n",
       "  TEMPERATURA MÍNIMA NA HORA ANT. (AUT) (°C)  \\\n",
       "0                                       24,3   \n",
       "1                                       24,1   \n",
       "2                                       23,6   \n",
       "3                                       23,5   \n",
       "4                                       22,9   \n",
       "\n",
       "  TEMPERATURA ORVALHO MAX. NA HORA ANT. (AUT) (°C)  \\\n",
       "0                                             21,6   \n",
       "1                                             21,6   \n",
       "2                                             21,2   \n",
       "3                                             20,4   \n",
       "4                                             20,5   \n",
       "\n",
       "  TEMPERATURA ORVALHO MIN. NA HORA ANT. (AUT) (°C)  \\\n",
       "0                                             20,9   \n",
       "1                                             20,9   \n",
       "2                                             19,9   \n",
       "3                                               20   \n",
       "4                                             20,3   \n",
       "\n",
       "   UMIDADE REL. MAX. NA HORA ANT. (AUT) (%)  \\\n",
       "0                                      83.0   \n",
       "1                                      85.0   \n",
       "2                                      81.0   \n",
       "3                                      83.0   \n",
       "4                                      85.0   \n",
       "\n",
       "   UMIDADE REL. MIN. NA HORA ANT. (AUT) (%)  \\\n",
       "0                                      75.0   \n",
       "1                                      78.0   \n",
       "2                                      74.0   \n",
       "3                                      79.0   \n",
       "4                                      82.0   \n",
       "\n",
       "   UMIDADE RELATIVA DO AR, HORARIA (%)  VENTO, DIREÇÃO HORARIA (gr) (° (gr))  \\\n",
       "0                                 83.0                                 191.0   \n",
       "1                                 81.0                                  47.0   \n",
       "2                                 81.0                                 302.0   \n",
       "3                                 82.0                                  42.0   \n",
       "4                                 85.0                                  48.0   \n",
       "\n",
       "  VENTO, RAJADA MAXIMA (m/s) VENTO, VELOCIDADE HORARIA (m/s)  Unnamed: 19  \n",
       "0                        2,5                              ,6          NaN  \n",
       "1                        2,5                             1,5          NaN  \n",
       "2                        3,8                              ,5          NaN  \n",
       "3                        3,3                             1,9          NaN  \n",
       "4                          3                             1,5          NaN  "
      ]
     },
     "execution_count": 55,
     "metadata": {},
     "output_type": "execute_result"
    }
   ],
   "source": [
    "#Leitura do arquivo de dados\n",
    "df = pd.read_csv('../datasets/inmet/INMET_CO_MS_A702_CAMPO-GRANDE_01-01-2023_A_31-12-2023.CSV', sep=';', low_memory=False, encoding='iso-8859-1', skiprows=8)\n",
    "\n",
    "data = df.drop(['Data'],axis=1)\n",
    "print('Number of instances = %d' % (data.shape[0]))\n",
    "print('Number of attributes = %d' % (data.shape[1]))\n",
    "df.head()"
   ]
  },
  {
   "cell_type": "markdown",
   "metadata": {},
   "source": [
    "### Dados ausentes"
   ]
  },
  {
   "cell_type": "code",
   "execution_count": 56,
   "metadata": {},
   "outputs": [
    {
     "name": "stdout",
     "output_type": "stream",
     "text": [
      "Data                                                        0\n",
      "Hora UTC                                                    0\n",
      "PRECIPITAÇÃO TOTAL, HORÁRIO (mm)                            3\n",
      "PRESSAO ATMOSFERICA AO NIVEL DA ESTACAO, HORARIA (mB)       3\n",
      "PRESSÃO ATMOSFERICA MAX.NA HORA ANT. (AUT) (mB)             3\n",
      "PRESSÃO ATMOSFERICA MIN. NA HORA ANT. (AUT) (mB)            3\n",
      "RADIACAO GLOBAL (Kj/m²)                                     3\n",
      "TEMPERATURA DO AR - BULBO SECO, HORARIA (°C)                3\n",
      "TEMPERATURA DO PONTO DE ORVALHO (°C)                        3\n",
      "TEMPERATURA MÁXIMA NA HORA ANT. (AUT) (°C)                  3\n",
      "TEMPERATURA MÍNIMA NA HORA ANT. (AUT) (°C)                  3\n",
      "TEMPERATURA ORVALHO MAX. NA HORA ANT. (AUT) (°C)            3\n",
      "TEMPERATURA ORVALHO MIN. NA HORA ANT. (AUT) (°C)            3\n",
      "UMIDADE REL. MAX. NA HORA ANT. (AUT) (%)                    3\n",
      "UMIDADE REL. MIN. NA HORA ANT. (AUT) (%)                    3\n",
      "UMIDADE RELATIVA DO AR, HORARIA (%)                         3\n",
      "VENTO, DIREÇÃO HORARIA (gr) (° (gr))                        6\n",
      "VENTO, RAJADA MAXIMA (m/s)                                  9\n",
      "VENTO, VELOCIDADE HORARIA (m/s)                             6\n",
      "Unnamed: 19                                              8760\n",
      "dtype: int64\n",
      "20\n"
     ]
    }
   ],
   "source": [
    "# Verificando dados em falta\n",
    "print(df.isnull().sum())\n",
    "print(len(df.columns))"
   ]
  },
  {
   "cell_type": "code",
   "execution_count": 57,
   "metadata": {},
   "outputs": [
    {
     "name": "stdout",
     "output_type": "stream",
     "text": [
      "Data                                                     0\n",
      "Hora UTC                                                 0\n",
      "PRECIPITAÇÃO TOTAL, HORÁRIO (mm)                         3\n",
      "PRESSAO ATMOSFERICA AO NIVEL DA ESTACAO, HORARIA (mB)    3\n",
      "PRESSÃO ATMOSFERICA MAX.NA HORA ANT. (AUT) (mB)          3\n",
      "PRESSÃO ATMOSFERICA MIN. NA HORA ANT. (AUT) (mB)         3\n",
      "RADIACAO GLOBAL (Kj/m²)                                  3\n",
      "TEMPERATURA DO AR - BULBO SECO, HORARIA (°C)             3\n",
      "TEMPERATURA DO PONTO DE ORVALHO (°C)                     3\n",
      "TEMPERATURA MÁXIMA NA HORA ANT. (AUT) (°C)               3\n",
      "TEMPERATURA MÍNIMA NA HORA ANT. (AUT) (°C)               3\n",
      "TEMPERATURA ORVALHO MAX. NA HORA ANT. (AUT) (°C)         3\n",
      "TEMPERATURA ORVALHO MIN. NA HORA ANT. (AUT) (°C)         3\n",
      "UMIDADE REL. MAX. NA HORA ANT. (AUT) (%)                 3\n",
      "UMIDADE REL. MIN. NA HORA ANT. (AUT) (%)                 3\n",
      "UMIDADE RELATIVA DO AR, HORARIA (%)                      3\n",
      "VENTO, DIREÇÃO HORARIA (gr) (° (gr))                     6\n",
      "VENTO, RAJADA MAXIMA (m/s)                               9\n",
      "VENTO, VELOCIDADE HORARIA (m/s)                          6\n",
      "dtype: int64\n",
      "19\n"
     ]
    }
   ],
   "source": [
    "if 'Unnamed: 19' in df.columns:\n",
    "    df = df.drop(columns=['Unnamed: 19'])\n",
    "#contagem do numero total de colunas\n",
    "print(df.isnull().sum())\n",
    "print(len(df.columns))"
   ]
  },
  {
   "cell_type": "markdown",
   "metadata": {},
   "source": [
    "### Remoção dos dados Faltantes"
   ]
  },
  {
   "cell_type": "code",
   "execution_count": 58,
   "metadata": {},
   "outputs": [
    {
     "name": "stdout",
     "output_type": "stream",
     "text": [
      "Data                                                     0\n",
      "Hora UTC                                                 0\n",
      "PRECIPITAÇÃO TOTAL, HORÁRIO (mm)                         0\n",
      "PRESSAO ATMOSFERICA AO NIVEL DA ESTACAO, HORARIA (mB)    0\n",
      "PRESSÃO ATMOSFERICA MAX.NA HORA ANT. (AUT) (mB)          0\n",
      "PRESSÃO ATMOSFERICA MIN. NA HORA ANT. (AUT) (mB)         0\n",
      "RADIACAO GLOBAL (Kj/m²)                                  0\n",
      "TEMPERATURA DO AR - BULBO SECO, HORARIA (°C)             0\n",
      "TEMPERATURA DO PONTO DE ORVALHO (°C)                     0\n",
      "TEMPERATURA MÁXIMA NA HORA ANT. (AUT) (°C)               0\n",
      "TEMPERATURA MÍNIMA NA HORA ANT. (AUT) (°C)               0\n",
      "TEMPERATURA ORVALHO MAX. NA HORA ANT. (AUT) (°C)         0\n",
      "TEMPERATURA ORVALHO MIN. NA HORA ANT. (AUT) (°C)         0\n",
      "UMIDADE REL. MAX. NA HORA ANT. (AUT) (%)                 0\n",
      "UMIDADE REL. MIN. NA HORA ANT. (AUT) (%)                 0\n",
      "UMIDADE RELATIVA DO AR, HORARIA (%)                      0\n",
      "VENTO, DIREÇÃO HORARIA (gr) (° (gr))                     0\n",
      "VENTO, RAJADA MAXIMA (m/s)                               0\n",
      "VENTO, VELOCIDADE HORARIA (m/s)                          0\n",
      "dtype: int64\n",
      "19\n"
     ]
    }
   ],
   "source": [
    "df = df.dropna()\n",
    "print(df.isnull().sum())\n",
    "print(len(df.columns))"
   ]
  },
  {
   "cell_type": "code",
   "execution_count": 59,
   "metadata": {},
   "outputs": [],
   "source": [
    "#!pip install plotly dash\n",
    "import dash\n",
    "from dash import dcc, html\n",
    "from dash.dependencies import Input, Output\n",
    "import plotly.express as px\n",
    "import pandas as pd"
   ]
  },
  {
   "cell_type": "code",
   "execution_count": 60,
   "metadata": {},
   "outputs": [
    {
     "data": {
      "text/html": [
       "\n",
       "        <iframe\n",
       "            width=\"100%\"\n",
       "            height=\"650\"\n",
       "            src=\"http://127.0.0.1:8050/\"\n",
       "            frameborder=\"0\"\n",
       "            allowfullscreen\n",
       "            \n",
       "        ></iframe>\n",
       "        "
      ],
      "text/plain": [
       "<IPython.lib.display.IFrame at 0x29a0db4e6b0>"
      ]
     },
     "metadata": {},
     "output_type": "display_data"
    }
   ],
   "source": [
    "fig = px.scatter(\n",
    "    df, \n",
    "    x=\"Hora UTC\", \n",
    "    y=\"TEMPERATURA DO AR - BULBO SECO, HORARIA (°C)\",  \n",
    "    color=\"UMIDADE RELATIVA DO AR, HORARIA (%)\",  \n",
    "    title=\"Gráfico Interativo com Dash\"\n",
    ")\n",
    "app = dash.Dash(__name__)\n",
    "\n",
    "app.layout = html.Div([\n",
    "    dcc.Graph(figure=fig)  \n",
    "])\n",
    "if __name__ == '__main__':\n",
    "    app.run_server(debug=True, use_reloader=False)"
   ]
  },
  {
   "cell_type": "code",
   "execution_count": 65,
   "metadata": {},
   "outputs": [
    {
     "name": "stdout",
     "output_type": "stream",
     "text": [
      "{'UMIDADE REL. MAX. NA HORA ANT. (AUT) (%)': Series([], Name: UMIDADE REL. MAX. NA HORA ANT. (AUT) (%), dtype: float64), 'UMIDADE REL. MIN. NA HORA ANT. (AUT) (%)': Series([], Name: UMIDADE REL. MIN. NA HORA ANT. (AUT) (%), dtype: float64), 'UMIDADE RELATIVA DO AR, HORARIA (%)': Series([], Name: UMIDADE RELATIVA DO AR, HORARIA (%), dtype: float64), 'VENTO, DIREÇÃO HORARIA (gr) (° (gr))': Series([], Name: VENTO, DIREÇÃO HORARIA (gr) (° (gr)), dtype: float64)}\n",
      "Data                                                      object\n",
      "Hora UTC                                                  object\n",
      "PRECIPITAÇÃO TOTAL, HORÁRIO (mm)                          object\n",
      "PRESSAO ATMOSFERICA AO NIVEL DA ESTACAO, HORARIA (mB)     object\n",
      "PRESSÃO ATMOSFERICA MAX.NA HORA ANT. (AUT) (mB)           object\n",
      "PRESSÃO ATMOSFERICA MIN. NA HORA ANT. (AUT) (mB)          object\n",
      "RADIACAO GLOBAL (Kj/m²)                                   object\n",
      "TEMPERATURA DO AR - BULBO SECO, HORARIA (°C)              object\n",
      "TEMPERATURA DO PONTO DE ORVALHO (°C)                      object\n",
      "TEMPERATURA MÁXIMA NA HORA ANT. (AUT) (°C)                object\n",
      "TEMPERATURA MÍNIMA NA HORA ANT. (AUT) (°C)                object\n",
      "TEMPERATURA ORVALHO MAX. NA HORA ANT. (AUT) (°C)          object\n",
      "TEMPERATURA ORVALHO MIN. NA HORA ANT. (AUT) (°C)          object\n",
      "UMIDADE REL. MAX. NA HORA ANT. (AUT) (%)                 float64\n",
      "UMIDADE REL. MIN. NA HORA ANT. (AUT) (%)                 float64\n",
      "UMIDADE RELATIVA DO AR, HORARIA (%)                      float64\n",
      "VENTO, DIREÇÃO HORARIA (gr) (° (gr))                     float64\n",
      "VENTO, RAJADA MAXIMA (m/s)                                object\n",
      "VENTO, VELOCIDADE HORARIA (m/s)                           object\n",
      "dtype: object\n"
     ]
    }
   ],
   "source": [
    "def identificar_outliers_iqr(df):\n",
    "    outliers = {}\n",
    "    \n",
    "    for coluna in df.select_dtypes(include=['float64', 'int']): \n",
    "        Q1 = df[coluna].quantile(0.25)  # Primeiro quartil\n",
    "        Q3 = df[coluna].quantile(0.75)  # Terceiro quartil\n",
    "        IQR = Q3 - Q1  # Intervalo interquartil (IQR)\n",
    "        \n",
    "        # Limites para detectar outliers\n",
    "        limite_inferior = Q1 - 1.5 * IQR\n",
    "        limite_superior = Q3 + 1.5 * IQR\n",
    "        \n",
    "        # Valores que estão fora dos limites definidos\n",
    "        outliers[coluna] = df[(df[coluna] < limite_inferior) | (df[coluna] > limite_superior)][coluna]\n",
    "        \n",
    "    return outliers\n",
    "print(identificar_outliers_iqr(df))\n",
    "print(df.dtypes)"
   ]
  },
  {
   "cell_type": "code",
   "execution_count": 67,
   "metadata": {},
   "outputs": [
    {
     "name": "stdout",
     "output_type": "stream",
     "text": [
      "Series([], Name: VENTO, DIREÇÃO HORARIA (gr) (° (gr)), dtype: float64)\n"
     ]
    }
   ],
   "source": [
    "def identificar_outliers_iqr(df):\n",
    "    outliers = {}\n",
    "    \n",
    "    for coluna in df.select_dtypes(include=['float64', 'int64']).columns:\n",
    "        Q1 = df[coluna].quantile(0.25)\n",
    "        Q3 = df[coluna].quantile(0.75)\n",
    "        IQR = Q3 - Q1\n",
    "        limite_inferior = Q1 - 1.5 * IQR\n",
    "        limite_superior = Q3 + 1.5 * IQR\n",
    "        \n",
    "        print(f\"Coluna: {coluna}\")\n",
    "        print(f\"Q1: {Q1}, Q3: {Q3}, IQR: {IQR}\")\n",
    "        print(f\"Limite Inferior: {limite_inferior}, Limite Superior: {limite_superior}\")\n",
    "        \n",
    "        outliers[coluna] = df[(df[coluna] < limite_inferior) | (df[coluna] > limite_superior)]\n",
    "        \n",
    "        if not outliers[coluna].empty:\n",
    "            print(f\"Outliers encontrados na coluna {coluna}:\\n{outliers[coluna]}\")\n",
    "        else:\n",
    "            print(f\"Sem outliers na coluna {coluna}.\")\n",
    "    \n",
    "    return outliers\n",
    "print(outliers)"
   ]
  },
  {
   "cell_type": "code",
   "execution_count": 68,
   "metadata": {},
   "outputs": [
    {
     "data": {
      "image/png": "[encoded data removed]",
      "text/plain": [
       "<Figure size 1500x1000 with 4 Axes>"
      ]
     },
     "metadata": {},
     "output_type": "display_data"
    }
   ],
   "source": [
    "#!pip install seaborn\n",
    "import seaborn as sns\n",
    "colunas_numericas = df.select_dtypes(include=['float64', 'int64']).columns\n",
    "\n",
    "# Definindo o tamanho da figura\n",
    "plt.figure(figsize=(15, 10))\n",
    "\n",
    "# Criando boxplots para cada coluna numérica\n",
    "for i, coluna in enumerate(colunas_numericas, 1):\n",
    "    plt.subplot(len(colunas_numericas), 1, i)\n",
    "    sns.boxplot(x=df[coluna])\n",
    "    plt.title(f'Boxplot de {coluna}')\n",
    "    plt.xlabel(coluna)\n",
    "\n",
    "# Ajustando o layout da figura\n",
    "plt.tight_layout()\n",
    "plt.show()"
   ]
  },
  {
   "cell_type": "code",
   "execution_count": 69,
   "metadata": {},
   "outputs": [
    {
     "name": "stdout",
     "output_type": "stream",
     "text": [
      "Número de linhas duplicadas: 0\n",
      "Não há linhas duplicadas.\n"
     ]
    }
   ],
   "source": [
    "duplicated_rows = df.duplicated()\n",
    "num_duplicated_rows = duplicated_rows.sum()\n",
    "print(f\"Número de linhas duplicadas: {num_duplicated_rows}\")\n",
    "if num_duplicated_rows > 0:\n",
    "    print(\"Linhas duplicadas:\")\n",
    "    print(df[duplicated_rows])\n",
    "else:\n",
    "    print(\"Não há linhas duplicadas.\")"
   ]
  },
  {
   "cell_type": "code",
   "execution_count": 101,
   "metadata": {},
   "outputs": [
    {
     "name": "stdout",
     "output_type": "stream",
     "text": [
      "0       25.10\n",
      "1       24.55\n",
      "2       24.40\n",
      "3       23.70\n",
      "4       23.25\n",
      "        ...  \n",
      "8755    28.55\n",
      "8756    25.25\n",
      "8757    24.45\n",
      "8758    24.75\n",
      "8759    24.50\n",
      "Length: 8749, dtype: float64\n"
     ]
    }
   ],
   "source": [
    "#agregação dos dados\n",
    "if df['TEMPERATURA MÁXIMA NA HORA ANT. (AUT) (°C)'].dtype == 'object':\n",
    "   df['TEMPERATURA MÁXIMA NA HORA ANT. (AUT) (°C)'] = df['TEMPERATURA MÁXIMA NA HORA ANT. (AUT) (°C)'].str.replace(',', '.').astype(float)\n",
    "if df['TEMPERATURA MÍNIMA NA HORA ANT. (AUT) (°C)'].dtype == 'object':\n",
    "   df['TEMPERATURA MÍNIMA NA HORA ANT. (AUT) (°C)'] = df['TEMPERATURA MÍNIMA NA HORA ANT. (AUT) (°C)'].str.replace(',', '.').astype(float)\n",
    "\n",
    "temperatura = (df['TEMPERATURA MÁXIMA NA HORA ANT. (AUT) (°C)'] + df['TEMPERATURA MÍNIMA NA HORA ANT. (AUT) (°C)']) / 2\n",
    "print(temperatura)\n",
    "if df['TEMPERATURA ORVALHO MAX. NA HORA ANT. (AUT) (°C)'].dtype == 'object':\n",
    "   df['TEMPERATURA ORVALHO MAX. NA HORA ANT. (AUT) (°C)'] = df['TEMPERATURA ORVALHO MAX. NA HORA ANT. (AUT) (°C)'].str.replace(',', '.').astype(float)\n",
    "if df['TEMPERATURA ORVALHO MIN. NA HORA ANT. (AUT) (°C)'].dtype == 'object':\n",
    "   df['TEMPERATURA ORVALHO MIN. NA HORA ANT. (AUT) (°C)'] = df['TEMPERATURA ORVALHO MIN. NA HORA ANT. (AUT) (°C)'].str.replace(',', '.').astype(float)\n",
    "\n",
    "   temperatura_orvalho = (df['TEMPERATURA ORVALHO MAX. NA HORA ANT. (AUT) (°C)'] + df['TEMPERATURA ORVALHO MIN. NA HORA ANT. (AUT) (°C)']) / 2\n",
    "   print (temperatura_orvalho)\n",
    "\n",
    "   umidade_relat = (df['UMIDADE RELATIVA MAX. NA HORA ANT. (AUT) (%)'] + df['UMIDADE RELATIVA MIN. NA HORA ANT. (AUT) (%)']) / 2   \n",
    "   print(umidade_relat)"
   ]
  },
  {
   "cell_type": "code",
   "execution_count": 88,
   "metadata": {},
   "outputs": [],
   "source": [
    "if df['TEMPERATURA ORVALHO MAX. NA HORA ANT. (AUT) (°C)'].dtype == 'object':\n",
    "   df['TEMPERATURA ORVALHO MAX. NA HORA ANT. (AUT) (°C)'] = df['TEMPERATURA ORVALHO MAX. NA HORA ANT. (AUT) (°C)'].str.replace(',', '.').astype(float)\n",
    "if df['TEMPERATURA ORVALHO MIN. NA HORA ANT. (AUT) (°C)'].dtype == 'object':\n",
    "   df['TEMPERATURA ORVALHO MIN. NA HORA ANT. (AUT) (°C)'] = df['TEMPERATURA ORVALHO MIN. NA HORA ANT. (AUT) (°C)'].str.replace(',', '.').astype(float)\n",
    "\n",
    "   temperatura_orvalho = (df['TEMPERATURA ORVALHO MAX. NA HORA ANT. (AUT) (°C)'] + df['TEMPERATURA ORVALHO MIN. NA HORA ANT. (AUT) (°C)']) / 2\n",
    "   print (temperatura_orvalho)"
   ]
  },
  {
   "cell_type": "markdown",
   "metadata": {},
   "source": [
    "### To-Do (Roteiro do preprocessamento)\n",
    "\n",
    "- Verificar dimensão da base (OK)\n",
    "- Dados em branco / faltantes (OK)\n",
    "    - Tratar dados faltantes (ok)\n",
    "- Analisar Outliers\n",
    "- Dados duplicados (ok)\n",
    "- Agregação (em execução)\n",
    "- Amostragem\n",
    "- Discretização\n",
    "- Análise dos dados"
   ]
  },
  {
   "cell_type": "markdown",
   "metadata": {},
   "source": []
  }
 ],
 "metadata": {
  "kernelspec": {
   "display_name": ".venv",
   "language": "python",
   "name": "python3"
  },
  "language_info": {
   "codemirror_mode": {
    "name": "ipython",
    "version": 3
   },
   "file_extension": ".py",
   "mimetype": "text/x-python",
   "name": "python",
   "nbconvert_exporter": "python",
   "pygments_lexer": "ipython3",
   "version": "3.10.11"
  }
 },
 "nbformat": 4,
 "nbformat_minor": 2
}

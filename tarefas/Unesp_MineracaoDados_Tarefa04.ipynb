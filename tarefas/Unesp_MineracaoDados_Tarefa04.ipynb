{
 "cells": [
  {
   "cell_type": "code",
   "execution_count": 8,
   "metadata": {},
   "outputs": [
    {
     "name": "stdout",
     "output_type": "stream",
     "text": [
      "Arquivo baixado\n"
     ]
    }
   ],
   "source": [
    "#%pip install wget\n",
    "import wget\n",
    "import os\n",
    "\n",
    "url = \"https://raw.githubusercontent.com/regivaldo717/Diabetes/master/data/external/diabetes.csv\"\n",
    "file_name = \"diabetes.csv\"\n",
    "\n",
    "if os.path.exists(file_name):\n",
    "    print(\"Arquivo baixado\")\n",
    "else:\n",
    "    wget.download(url, file_name)\n",
    "    print(\"\\nArquivo baixado com sucesso\")\n"
   ]
  },
  {
   "cell_type": "code",
   "execution_count": null,
   "metadata": {},
   "outputs": [],
   "source": []
  }
 ],
 "metadata": {
  "kernelspec": {
   "display_name": "Python 3",
   "language": "python",
   "name": "python3"
  },
  "language_info": {
   "codemirror_mode": {
    "name": "ipython",
    "version": 3
   },
   "file_extension": ".py",
   "mimetype": "text/x-python",
   "name": "python",
   "nbconvert_exporter": "python",
   "pygments_lexer": "ipython3",
   "version": "3.12.4"
  }
 },
 "nbformat": 4,
 "nbformat_minor": 2
}
